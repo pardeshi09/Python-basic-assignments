{
 "cells": [
  {
   "cell_type": "markdown",
   "id": "3cfd505f",
   "metadata": {},
   "source": [
    "### 1.Write a Python Program to find sum of array?"
   ]
  },
  {
   "cell_type": "code",
   "execution_count": 68,
   "id": "98f7ec5a",
   "metadata": {},
   "outputs": [
    {
     "name": "stdout",
     "output_type": "stream",
     "text": [
      "Enter an array :[1,2,3,4,5,6]\n",
      "The sum of  [1, 2, 3, 4, 5, 6] is 21\n"
     ]
    }
   ],
   "source": [
    "#defining a funtion which return sum of array\n",
    "def _sum(array):\n",
    "    sum = 0\n",
    "    for i in array:\n",
    "        sum = sum + i\n",
    "    return(sum)\n",
    "\n",
    "#user input\n",
    "array = eval(input('Enter an array :'))\n",
    "print('The sum of ', array ,'is', _sum(array))"
   ]
  },
  {
   "cell_type": "markdown",
   "id": "1973d400",
   "metadata": {},
   "source": [
    "### 2.Write a Python Program to find largest element in an array?"
   ]
  },
  {
   "cell_type": "code",
   "execution_count": 34,
   "id": "eb6fcab5",
   "metadata": {},
   "outputs": [
    {
     "name": "stdout",
     "output_type": "stream",
     "text": [
      "Enter an array: [1,6,3,18,20,16,25,2]\n",
      "The largest element in [1, 6, 3, 18, 20, 16, 25, 2] is 25\n"
     ]
    }
   ],
   "source": [
    "#defining a function which returns largest element in an array \n",
    "def largest(array):\n",
    "    for i in array:\n",
    "        return max(array) #using max() funtion which returns maximum element\n",
    "\n",
    "#user input    \n",
    "array = eval(input('Enter an array: '))\n",
    "print('The largest element in {} is {}'.format(array,largest(array)))"
   ]
  },
  {
   "cell_type": "markdown",
   "id": "dcbb54e7",
   "metadata": {},
   "source": [
    "### 3.Write a Python Program for array rotation?"
   ]
  },
  {
   "cell_type": "code",
   "execution_count": 43,
   "id": "b4db991b",
   "metadata": {},
   "outputs": [
    {
     "name": "stdout",
     "output_type": "stream",
     "text": [
      "Enter an Array: [1,2,3,]\n",
      "The reverse of [1, 2, 3] is [3, 2, 1]\n"
     ]
    }
   ],
   "source": [
    "#defing a function which will return reverse of an array\n",
    "def reverse_array(array):\n",
    "    for i in array:\n",
    "        return array[::-1]\n",
    "#user input\n",
    "array = eval(input('Enter an Array: '))\n",
    "print('The reverse of {} is {}'.format(array,reverse_array(array)))"
   ]
  },
  {
   "cell_type": "markdown",
   "id": "cbc28b77",
   "metadata": {},
   "source": [
    "### 4. Write a Python Program to Split the array and add the first part to the end ?"
   ]
  },
  {
   "cell_type": "code",
   "execution_count": 53,
   "id": "1b3c7077",
   "metadata": {},
   "outputs": [
    {
     "name": "stdout",
     "output_type": "stream",
     "text": [
      "Enter an array :[1,2,3,4,5,6]\n",
      "The Sum of First and last element of [1, 2, 3, 4, 5, 6] is 7\n"
     ]
    }
   ],
   "source": [
    "#This function will return sum of first and last element of an array\n",
    "def sum_of_splits(array):\n",
    "    for i in array:\n",
    "        return array[0] + array[-1]\n",
    "    \n",
    "array = eval(input('Enter an array :'))\n",
    "print(f\"The Sum of First and last element of {array} is {sum_of_splits(array)}\")\n"
   ]
  },
  {
   "cell_type": "markdown",
   "id": "614f4627",
   "metadata": {},
   "source": [
    "### 5. Write a Python Program to check if given array is Monotonic?"
   ]
  },
  {
   "cell_type": "code",
   "execution_count": 66,
   "id": "a4a23b46",
   "metadata": {},
   "outputs": [
    {
     "name": "stdout",
     "output_type": "stream",
     "text": [
      "Enter the Array: [1,2,3,4,5]\n",
      "Array [1, 2, 3, 4, 5] is Monotonic\n"
     ]
    }
   ],
   "source": [
    "def checkMonotonic():\n",
    "    in_arr = eval(input(\"Enter the Array: \"))\n",
    "    if(all(in_arr[i]<=in_arr[i+1] for i in range(len(in_arr)-1)) or all(in_arr[i]>=in_arr[i+1] for i in range(len(in_arr)-1))):\n",
    "        print(f'Array {in_arr} is Monotonic')\n",
    "    else:\n",
    "        print(f'Array {in_arr} is Not Monotonic')\n",
    "#calling function\n",
    "checkMonotonic()"
   ]
  },
  {
   "cell_type": "code",
   "execution_count": 67,
   "id": "0d63d07b",
   "metadata": {},
   "outputs": [
    {
     "name": "stdout",
     "output_type": "stream",
     "text": [
      "Enter the Array: [4,5,3,2,1]\n",
      "Array [4, 5, 3, 2, 1] is Not Monotonic\n"
     ]
    }
   ],
   "source": [
    "checkMonotonic()"
   ]
  }
 ],
 "metadata": {
  "kernelspec": {
   "display_name": "Python 3 (ipykernel)",
   "language": "python",
   "name": "python3"
  },
  "language_info": {
   "codemirror_mode": {
    "name": "ipython",
    "version": 3
   },
   "file_extension": ".py",
   "mimetype": "text/x-python",
   "name": "python",
   "nbconvert_exporter": "python",
   "pygments_lexer": "ipython3",
   "version": "3.9.7"
  }
 },
 "nbformat": 4,
 "nbformat_minor": 5
}
