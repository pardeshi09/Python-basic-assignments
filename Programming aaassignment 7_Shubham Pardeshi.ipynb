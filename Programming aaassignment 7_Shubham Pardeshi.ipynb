{
 "cells": [
  {
   "cell_type": "markdown",
   "id": "d628ef99",
   "metadata": {},
   "source": [
    "### 1.Write a Python Program to find sum of array?"
   ]
  },
  {
   "cell_type": "code",
   "execution_count": 31,
   "id": "486f83dc",
   "metadata": {},
   "outputs": [
    {
     "name": "stdout",
     "output_type": "stream",
     "text": [
      "Enter an array :[2,4,6,8,10]\n",
      "The sum of  [2, 4, 6, 8, 10] is 30\n"
     ]
    }
   ],
   "source": [
    "#defining a funtion which return sum of array\n",
    "def _sum(arr):\n",
    "    sum = 0\n",
    "    for i in arr:\n",
    "        sum = sum + i\n",
    "    return(sum)\n",
    "\n",
    "#user input\n",
    "array = eval(input('Enter an array :'))\n",
    "print('The sum of ', array ,'is', _sum(array))"
   ]
  },
  {
   "cell_type": "markdown",
   "id": "fcb50634",
   "metadata": {},
   "source": [
    "### 2.Write a Python Program to find largest element in an array?"
   ]
  },
  {
   "cell_type": "code",
   "execution_count": 34,
   "id": "1695e38a",
   "metadata": {},
   "outputs": [
    {
     "name": "stdout",
     "output_type": "stream",
     "text": [
      "Enter an array: [1,6,3,18,20,16,25,2]\n",
      "The largest element in [1, 6, 3, 18, 20, 16, 25, 2] is 25\n"
     ]
    }
   ],
   "source": [
    "#defining a function which returns largest element in an array \n",
    "def largest(array):\n",
    "    for i in array:\n",
    "        return max(array) #using max() funtion which returns maximum element\n",
    "\n",
    "#user input    \n",
    "array = eval(input('Enter an array: '))\n",
    "print('The largest element in {} is {}'.format(array,largest(array)))"
   ]
  },
  {
   "cell_type": "markdown",
   "id": "9d89f374",
   "metadata": {},
   "source": [
    "### 3.Write a Python Program for array rotation?"
   ]
  },
  {
   "cell_type": "code",
   "execution_count": 43,
   "id": "522107b8",
   "metadata": {},
   "outputs": [
    {
     "name": "stdout",
     "output_type": "stream",
     "text": [
      "Enter an Array: [1,2,3,]\n",
      "The reverse of [1, 2, 3] is [3, 2, 1]\n"
     ]
    }
   ],
   "source": [
    "#defing a function which will return reverse of an array\n",
    "def reverse_array(array):\n",
    "    for i in array:\n",
    "        return array[::-1]\n",
    "#user input\n",
    "array = eval(input('Enter an Array: '))\n",
    "print('The reverse of {} is {}'.format(array,reverse_array(array)))"
   ]
  },
  {
   "cell_type": "markdown",
   "id": "14022080",
   "metadata": {},
   "source": [
    "### 4. Write a Python Program to Split the array and add the first part to the end ?"
   ]
  },
  {
   "cell_type": "code",
   "execution_count": 53,
   "id": "a604adb1",
   "metadata": {},
   "outputs": [
    {
     "name": "stdout",
     "output_type": "stream",
     "text": [
      "Enter an array :[1,2,3,4,5,6]\n",
      "The Sum of First and last element of [1, 2, 3, 4, 5, 6] is 7\n"
     ]
    }
   ],
   "source": [
    "#This function will return sum of first and last element of an array\n",
    "def sum_of_splits(array):\n",
    "    for i in array:\n",
    "        return array[0] + array[-1]\n",
    "    \n",
    "array = eval(input('Enter an array :'))\n",
    "print(f\"The Sum of First and last element of {array} is {sum_of_splits(array)}\")\n"
   ]
  },
  {
   "cell_type": "markdown",
   "id": "b68203f7",
   "metadata": {},
   "source": [
    "### 5. Write a Python Program to check if given array is Monotonic?"
   ]
  },
  {
   "cell_type": "code",
   "execution_count": 66,
   "id": "de576567",
   "metadata": {},
   "outputs": [
    {
     "name": "stdout",
     "output_type": "stream",
     "text": [
      "Enter the Array: [1,2,3,4,5]\n",
      "Array [1, 2, 3, 4, 5] is Monotonic\n"
     ]
    }
   ],
   "source": [
    "def checkMonotonic():\n",
    "    in_arr = eval(input(\"Enter the Array: \"))\n",
    "    if(all(in_arr[i]<=in_arr[i+1] for i in range(len(in_arr)-1)) or all(in_arr[i]>=in_arr[i+1] for i in range(len(in_arr)-1))):\n",
    "        print(f'Array {in_arr} is Monotonic')\n",
    "    else:\n",
    "        print(f'Array {in_arr} is Not Monotonic')\n",
    "#calling function\n",
    "checkMonotonic()"
   ]
  },
  {
   "cell_type": "code",
   "execution_count": 67,
   "id": "6b452f09",
   "metadata": {},
   "outputs": [
    {
     "name": "stdout",
     "output_type": "stream",
     "text": [
      "Enter the Array: [4,5,3,2,1]\n",
      "Array [4, 5, 3, 2, 1] is Not Monotonic\n"
     ]
    }
   ],
   "source": [
    "checkMonotonic()"
   ]
  }
 ],
 "metadata": {
  "kernelspec": {
   "display_name": "Python 3 (ipykernel)",
   "language": "python",
   "name": "python3"
  },
  "language_info": {
   "codemirror_mode": {
    "name": "ipython",
    "version": 3
   },
   "file_extension": ".py",
   "mimetype": "text/x-python",
   "name": "python",
   "nbconvert_exporter": "python",
   "pygments_lexer": "ipython3",
   "version": "3.9.7"
  }
 },
 "nbformat": 4,
 "nbformat_minor": 5
}
