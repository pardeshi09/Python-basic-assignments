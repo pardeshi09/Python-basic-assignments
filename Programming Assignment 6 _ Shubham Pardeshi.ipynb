{
 "cells": [
  {
   "cell_type": "markdown",
   "id": "39dafc80",
   "metadata": {},
   "source": [
    "### 1. Write a Python Program to Display Fibonacci Sequence Using Recursion?"
   ]
  },
  {
   "cell_type": "code",
   "execution_count": 3,
   "id": "5c7fe985",
   "metadata": {
    "scrolled": true
   },
   "outputs": [
    {
     "name": "stdout",
     "output_type": "stream",
     "text": [
      "Please enter number of terms:12\n",
      "Fibonacci series:\n",
      "0\n",
      "1\n",
      "1\n",
      "2\n",
      "3\n",
      "5\n",
      "8\n",
      "13\n",
      "21\n",
      "34\n",
      "55\n",
      "89\n"
     ]
    }
   ],
   "source": [
    "#define a function \n",
    "def fibonacci_recursion(n):\n",
    "    if n <= 1:\n",
    "        return n\n",
    "    else:\n",
    "        return (fibonacci_recursion(n-1) + fibonacci_recursion(n-2))\n",
    "#user input\n",
    "nterms = int(input('Please enter number of terms:'))\n",
    "\n",
    "#validate number of terms\n",
    "if nterms <= 0:\n",
    "    print('Please enter a positive integer:')\n",
    "else:\n",
    "    print('Fibonacci series:')\n",
    "    for i in range(nterms):\n",
    "        print(fibonacci_recursion(i))"
   ]
  },
  {
   "cell_type": "markdown",
   "id": "b6995a43",
   "metadata": {},
   "source": [
    "### 2. Write a Python Program to Find Factorial of Number Using Recursion?"
   ]
  },
  {
   "cell_type": "code",
   "execution_count": 4,
   "id": "2cd0d64b",
   "metadata": {},
   "outputs": [
    {
     "name": "stdout",
     "output_type": "stream",
     "text": [
      "Please enter a number: 5\n",
      "Factorial of 5 is 120\n"
     ]
    }
   ],
   "source": [
    "def factorial_recursion(n):\n",
    "    if n==1:\n",
    "        return n\n",
    "    else:\n",
    "        return n*factorial_recursion(n-1)\n",
    "num= int(input('Please enter a number: '))\n",
    "if num <= 0:\n",
    "    print('Factorial does not exist for negative numbers')\n",
    "elif num==0:\n",
    "    print('Factorial of 0 is 1')\n",
    "else:\n",
    "    print('Factorial of', num , 'is', factorial_recursion(num))"
   ]
  },
  {
   "cell_type": "markdown",
   "id": "89a9b1b9",
   "metadata": {},
   "source": [
    "### 3. Write a Python Program to calculate your Body Mass Index?"
   ]
  },
  {
   "cell_type": "code",
   "execution_count": 2,
   "id": "5f9d01db",
   "metadata": {},
   "outputs": [
    {
     "name": "stdout",
     "output_type": "stream",
     "text": [
      "Enter height of a person in cm: 175\n",
      "Enter weight of a person in kg: 73\n",
      "Your Body Mas index is 23.836734693877553\n",
      "Awesome! You are healthy\n"
     ]
    }
   ],
   "source": [
    "height = float(input('Enter height of a person in cm: '))\n",
    "weight = float(input('Enter weight of a person in kg: '))\n",
    "BMI = weight / (height/100)**2  #dividing by 100 so that we can get height in meters\n",
    "print('Your Body Mas index is',BMI)\n",
    "\n",
    "if BMI <= 18.5:\n",
    "    print('Oops! You are underwieght')\n",
    "elif BMI <= 24.9:\n",
    "    print('Awesome! You are healthy')\n",
    "elif BMI <=29.9:\n",
    "    print('You are overweight')\n",
    "else:\n",
    "    print('You are obese')\n"
   ]
  },
  {
   "cell_type": "markdown",
   "id": "b6cdf564",
   "metadata": {},
   "source": [
    "### 4. Write a Python Program to calculate the natural logarithm of any number?"
   ]
  },
  {
   "cell_type": "code",
   "execution_count": 3,
   "id": "6cfb593b",
   "metadata": {},
   "outputs": [
    {
     "name": "stdout",
     "output_type": "stream",
     "text": [
      "Enter a number: 56\n",
      "The value is: 4.02535169073515\n"
     ]
    }
   ],
   "source": [
    "import math \n",
    "\n",
    "number = int(input('Enter a number: '))\n",
    "ans = math.log(number)\n",
    "print('The value is:',ans)"
   ]
  },
  {
   "cell_type": "markdown",
   "id": "f3cb0968",
   "metadata": {},
   "source": [
    "### 5. Write a Python Program for cube sum of first n natural numbers?"
   ]
  },
  {
   "cell_type": "code",
   "execution_count": 5,
   "id": "a7080adf",
   "metadata": {},
   "outputs": [
    {
     "name": "stdout",
     "output_type": "stream",
     "text": [
      "Enter a number: 10\n",
      "The sum of cube of first 10 natural number is 3025\n"
     ]
    }
   ],
   "source": [
    "num = int(input('Enter a number: '))\n",
    "sum = 0\n",
    "for i in range(num+1):\n",
    "    sum += i**3\n",
    "    \n",
    "print('The sum of cube of first',num,'natural number is',sum)"
   ]
  }
 ],
 "metadata": {
  "kernelspec": {
   "display_name": "Python 3 (ipykernel)",
   "language": "python",
   "name": "python3"
  },
  "language_info": {
   "codemirror_mode": {
    "name": "ipython",
    "version": 3
   },
   "file_extension": ".py",
   "mimetype": "text/x-python",
   "name": "python",
   "nbconvert_exporter": "python",
   "pygments_lexer": "ipython3",
   "version": "3.9.7"
  }
 },
 "nbformat": 4,
 "nbformat_minor": 5
}
