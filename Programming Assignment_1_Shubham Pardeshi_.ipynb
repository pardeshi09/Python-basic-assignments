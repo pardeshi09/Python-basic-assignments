{
 "cells": [
  {
   "cell_type": "markdown",
   "id": "f0ee537a",
   "metadata": {},
   "source": [
    "### 1. Write a Python program to print \"Hello Python\"?"
   ]
  },
  {
   "cell_type": "code",
   "execution_count": 17,
   "id": "b51dd413",
   "metadata": {},
   "outputs": [
    {
     "name": "stdout",
     "output_type": "stream",
     "text": [
      "Hello Python\n"
     ]
    }
   ],
   "source": [
    "print(\"Hello Python\")"
   ]
  },
  {
   "cell_type": "markdown",
   "id": "60432257",
   "metadata": {},
   "source": [
    "### 2. Write a Python program to do arithmetical operations addition and division.?"
   ]
  },
  {
   "cell_type": "code",
   "execution_count": 18,
   "id": "8f65fbf0",
   "metadata": {},
   "outputs": [
    {
     "name": "stdout",
     "output_type": "stream",
     "text": [
      " The addition of 50 and 40 is 90\n"
     ]
    }
   ],
   "source": [
    "x = 50\n",
    "y = 40\n",
    "\n",
    "#this program adds two numbers\n",
    "add = x + y\n",
    "\n",
    "print(' The addition of {0} and {1} is {2}'.format(x,y,add))\n"
   ]
  },
  {
   "cell_type": "code",
   "execution_count": 19,
   "id": "2f8eb3b7",
   "metadata": {},
   "outputs": [
    {
     "name": "stdout",
     "output_type": "stream",
     "text": [
      "The division of 50 and 40 is 1.25\n"
     ]
    }
   ],
   "source": [
    "#this program performs divisio of two numbers\n",
    "\n",
    "div = x/y\n",
    "\n",
    "print('The division of {0} and {1} is {2}'.format(x,y,div))"
   ]
  },
  {
   "cell_type": "markdown",
   "id": "8d504e37",
   "metadata": {},
   "source": [
    "### 3. Write a Python program to find the area of a triangle?"
   ]
  },
  {
   "cell_type": "markdown",
   "id": "202a315c",
   "metadata": {},
   "source": [
    "if a, b, c are three sides of a traingle then:\n",
    "s= (a+b+c)/2\n",
    "area= √(s(s-a) * (s-b) * (s-c))"
   ]
  },
  {
   "cell_type": "code",
   "execution_count": 20,
   "id": "1ef28bef",
   "metadata": {},
   "outputs": [
    {
     "name": "stdout",
     "output_type": "stream",
     "text": [
      "Enter first side: 10.6\n",
      "Enter second side: 12.5\n",
      "Enter third side: 9.18\n",
      "Area of triangle is 47.595068826927864\n"
     ]
    }
   ],
   "source": [
    "#python program to find area of triangle\n",
    "\n",
    "a = float(input('Enter first side: '))\n",
    "b = float(input('Enter second side: '))\n",
    "c = float(input('Enter third side: '))\n",
    "\n",
    "s = (a+b+c)/2.0\n",
    "area = (s*(s-a)*(s-b)*(s-c)) ** 0.5\n",
    "\n",
    "print('Area of triangle is' , area)"
   ]
  },
  {
   "cell_type": "markdown",
   "id": "6a44dfa5",
   "metadata": {},
   "source": [
    "### 4. Write a Python program to swap two variables?\n"
   ]
  },
  {
   "cell_type": "code",
   "execution_count": 21,
   "id": "598c89eb",
   "metadata": {},
   "outputs": [
    {
     "name": "stdout",
     "output_type": "stream",
     "text": [
      "Value of x after swapping 20\n",
      "Value of y after swapping 10\n"
     ]
    }
   ],
   "source": [
    "x = 10\n",
    "y = 20\n",
    "\n",
    "x,y = y,x\n",
    "\n",
    "print('Value of x after swapping',x)\n",
    "print('Value of y after swapping',y)"
   ]
  },
  {
   "cell_type": "markdown",
   "id": "5ef12dc1",
   "metadata": {},
   "source": [
    "### 5. Write a Python program to generate a random number?"
   ]
  },
  {
   "cell_type": "code",
   "execution_count": 22,
   "id": "8d0bb94a",
   "metadata": {},
   "outputs": [
    {
     "name": "stdout",
     "output_type": "stream",
     "text": [
      "76\n"
     ]
    }
   ],
   "source": [
    "#this program generates random numbers between 0 and 100\n",
    "\n",
    "import random    #importing random module\n",
    "\n",
    "print(random.randint(0,100))"
   ]
  }
 ],
 "metadata": {
  "kernelspec": {
   "display_name": "Python 3 (ipykernel)",
   "language": "python",
   "name": "python3"
  },
  "language_info": {
   "codemirror_mode": {
    "name": "ipython",
    "version": 3
   },
   "file_extension": ".py",
   "mimetype": "text/x-python",
   "name": "python",
   "nbconvert_exporter": "python",
   "pygments_lexer": "ipython3",
   "version": "3.9.7"
  }
 },
 "nbformat": 4,
 "nbformat_minor": 5
}
