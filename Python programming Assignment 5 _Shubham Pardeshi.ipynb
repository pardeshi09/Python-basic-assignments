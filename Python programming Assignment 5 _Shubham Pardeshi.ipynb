{
 "cells": [
  {
   "cell_type": "markdown",
   "id": "c9016490",
   "metadata": {},
   "source": [
    "### 1. Write a Python Program to Find LCM?"
   ]
  },
  {
   "cell_type": "code",
   "execution_count": 1,
   "id": "d050bb66",
   "metadata": {},
   "outputs": [
    {
     "name": "stdout",
     "output_type": "stream",
     "text": [
      "Enter first number:4\n",
      "Enter second number:6\n",
      "The lcm of 4 and 6 is 12\n"
     ]
    }
   ],
   "source": [
    "#It is the smallest positive integer that is divisible by both \"a\" and \"b\". Where a and b are two integers.\n",
    "\n",
    "\n",
    "#definig a function to calculate lcm\n",
    "def lcm(x,y):\n",
    "    #selecting greater number\n",
    "    if x>y:\n",
    "        grteater = x\n",
    "    else:\n",
    "        greater = y\n",
    "    while(True):\n",
    "        if((greater % x == 0) and (greater % y == 0)):\n",
    "            lcm = greater\n",
    "            break\n",
    "        greater += 1\n",
    "    return lcm\n",
    "#user input\n",
    "num1 = int(input('Enter first number:'))\n",
    "num2 = int(input('Enter second number:'))\n",
    "\n",
    "#displaying result\n",
    "print('The lcm of', num1, 'and', num2, 'is', lcm(num1,num2))"
   ]
  },
  {
   "cell_type": "markdown",
   "id": "79823e02",
   "metadata": {},
   "source": [
    "### 2. Write a Python Program to Find HCF?"
   ]
  },
  {
   "cell_type": "markdown",
   "id": "da58d6fb",
   "metadata": {},
   "source": [
    "Highest Common Factor or Greatest Common Divisor of two or more integers when at least one of them is not zero is the largest positive integer that evenly divides the numbers without a remainder. For example, the GCD of 8 and 12 is 4."
   ]
  },
  {
   "cell_type": "code",
   "execution_count": 4,
   "id": "bc954292",
   "metadata": {},
   "outputs": [
    {
     "name": "stdout",
     "output_type": "stream",
     "text": [
      "Enter first number:8\n",
      "Enter second number:12\n",
      "The hcf of 8 and 12 is 4\n"
     ]
    }
   ],
   "source": [
    "#definig a function to calculate hcf\n",
    "def hcf(x,y):\n",
    "    if x > y:\n",
    "        smaller = x\n",
    "    else:\n",
    "        smaller = y\n",
    "    for i in range(1,smaller + 1):\n",
    "        if((x % i ==0) and (y % i == 0)):\n",
    "            hcf = i\n",
    "    return hcf\n",
    "#user input\n",
    "num1 = int(input('Enter first number:'))\n",
    "num2 = int(input('Enter second number:'))\n",
    "\n",
    "#displaying result\n",
    "print('The hcf of',num1,'and', num2, 'is', hcf(num1,num2))"
   ]
  },
  {
   "cell_type": "markdown",
   "id": "43038c02",
   "metadata": {},
   "source": [
    "### 3. Write a Python Program to Convert Decimal to Binary, Octal and Hexadecimal?"
   ]
  },
  {
   "cell_type": "code",
   "execution_count": 5,
   "id": "5b2c362b",
   "metadata": {},
   "outputs": [
    {
     "name": "stdout",
     "output_type": "stream",
     "text": [
      "Enter the Decimal Number :15\n",
      "The given decimal number 15 in Binary number is 0b1111\n",
      "The given decimal number 15 in Octal 0o17\n",
      "The given decimal number 15 in hexadecimal 0xf\n"
     ]
    }
   ],
   "source": [
    "#First we will define the function to convert decimal to binary\n",
    "def decimal_into_binary(decimal_1):\n",
    "    decimal = int(decimal_1)\n",
    "    \n",
    "    #then, print the equivalent decimal\n",
    "    print('The given decimal number', decimal , 'in Binary number is' , bin(decimal))\n",
    "    \n",
    "#we will define the funtion to decimal to binary\n",
    "def decimal_into_oct(decimal_1):\n",
    "    decimal = int(decimal_1)\n",
    "    \n",
    "    #then print the equivalent decimal\n",
    "    print('The given decimal number', decimal, 'in Octal' , oct(decimal))\n",
    "    \n",
    "#we will define the function to convert decimal to hexadecimal \n",
    "def decimal_into_hexadecimal(decimal):\n",
    "    decimal = int(decimal_1)\n",
    "    \n",
    "    #then, print the equivalent decimal\n",
    "    print('The given decimal number', decimal , 'in hexadecimal' , hex(decimal))\n",
    "    \n",
    "#Calling functions\n",
    "decimal_1 = int(input('Enter the Decimal Number :'))\n",
    "decimal_into_binary(decimal_1)\n",
    "decimal_into_oct(decimal_1)\n",
    "decimal_into_hexadecimal(decimal_1)"
   ]
  },
  {
   "cell_type": "markdown",
   "id": "83cf5790",
   "metadata": {},
   "source": [
    "### 4. Write a Python Program To Find ASCII value of a character?"
   ]
  },
  {
   "cell_type": "code",
   "execution_count": 9,
   "id": "b2fedc44",
   "metadata": {},
   "outputs": [
    {
     "name": "stdout",
     "output_type": "stream",
     "text": [
      "Enter a Charcter: $\n",
      "The ASCII value of $ is 36\n"
     ]
    }
   ],
   "source": [
    "K = input('Enter a Charcter: ')\n",
    "print('The ASCII value of ' + K +' is' , ord(K))"
   ]
  },
  {
   "cell_type": "code",
   "execution_count": 13,
   "id": "a3013832",
   "metadata": {},
   "outputs": [
    {
     "name": "stdout",
     "output_type": "stream",
     "text": [
      "Please enter the String: Shubham$\n",
      "S \t 83\n",
      "h \t 104\n",
      "u \t 117\n",
      "b \t 98\n",
      "h \t 104\n",
      "a \t 97\n",
      "m \t 109\n",
      "$ \t 36\n"
     ]
    }
   ],
   "source": [
    "#following programme will give ASCCI value of a string \n",
    "print (\"Please enter the String: \", end = \"\")  \n",
    "string = input()  \n",
    "string_length = len(string)  \n",
    "for K in string:  \n",
    "    ASCII = ord(K)  \n",
    "    print (K, \"\\t\", ASCII)  "
   ]
  },
  {
   "cell_type": "markdown",
   "id": "7cc3069d",
   "metadata": {},
   "source": [
    "### 5. Write a Python Program to Make a Simple Calculator with 4 basic mathematical operations?"
   ]
  },
  {
   "cell_type": "code",
   "execution_count": 1,
   "id": "1dc5e6fe",
   "metadata": {},
   "outputs": [
    {
     "name": "stdout",
     "output_type": "stream",
     "text": [
      "Please select an operation:\n",
      "a.Addition\n",
      "b.Subtration\n",
      "c.Muliplication\n",
      "d.Division\n",
      "Please enter choice (a/b/c/d): c\n",
      "Enter the first number : 56\n",
      "Enter the second number : 65\n",
      "56 * 65 = 3640\n"
     ]
    }
   ],
   "source": [
    "def add(x,y):\n",
    "    '''This function is used for adding to numbers'''\n",
    "    return x+y\n",
    "\n",
    "def subtract(x,y):\n",
    "    '''This function is used for subtracting to numbers'''\n",
    "    return x-y\n",
    "\n",
    "def multiply(x,y):\n",
    "    '''This function is used for multiplying to numbers'''\n",
    "    return x*y\n",
    "\n",
    "def division(x,y):\n",
    "    '''This function is used for division of two numbers'''\n",
    "    return x/y\n",
    "\n",
    "#user input\n",
    "\n",
    "print('Please select an operation:')\n",
    "print('a.Addition')\n",
    "print('b.Subtration')\n",
    "print('c.Muliplication')\n",
    "print('d.Division')\n",
    "\n",
    "choice = input(\"Please enter choice (a/b/c/d): \")\n",
    "\n",
    "num_1 = int(input('Enter the first number : '))\n",
    "num_2 = int(input('Enter the second number : '))\n",
    "\n",
    "if choice == 'a':\n",
    "    print(num_1, '+', num_2, '=', add(num_1,num_2))\n",
    "\n",
    "elif choice == 'b':\n",
    "    print(num_1, '-', num_2, '=', subtract(num_1,num_2))\n",
    "    \n",
    "elif choice == 'c':\n",
    "    print(num_1, '*', num_2, '=', multiply(num_1,num_2))\n",
    "\n",
    "elif choice == 'd':\n",
    "    print(num_1, '/', num_2, '=', division(num_1,num_2))\n",
    "    \n",
    "else:\n",
    "    print('Please enter valid input')\n"
   ]
  },
  {
   "cell_type": "code",
   "execution_count": null,
   "id": "b93f3a72",
   "metadata": {},
   "outputs": [],
   "source": []
  }
 ],
 "metadata": {
  "kernelspec": {
   "display_name": "Python 3 (ipykernel)",
   "language": "python",
   "name": "python3"
  },
  "language_info": {
   "codemirror_mode": {
    "name": "ipython",
    "version": 3
   },
   "file_extension": ".py",
   "mimetype": "text/x-python",
   "name": "python",
   "nbconvert_exporter": "python",
   "pygments_lexer": "ipython3",
   "version": "3.9.7"
  }
 },
 "nbformat": 4,
 "nbformat_minor": 5
}
